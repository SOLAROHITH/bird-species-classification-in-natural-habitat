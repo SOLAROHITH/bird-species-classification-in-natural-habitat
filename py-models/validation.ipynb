{
  "nbformat": 4,
  "nbformat_minor": 0,
  "metadata": {
    "colab": {
      "provenance": []
    },
    "kernelspec": {
      "name": "python3",
      "display_name": "Python 3"
    },
    "language_info": {
      "name": "python"
    }
  },
  "cells": [
    {
      "cell_type": "code",
      "execution_count": null,
      "metadata": {
        "colab": {
          "base_uri": "https://localhost:8080/"
        },
        "id": "ZR9c8dsgzGXb",
        "outputId": "6e49cda7-1936-4973-c950-39d3c84043a3"
      },
      "outputs": [
        {
          "output_type": "stream",
          "name": "stderr",
          "text": [
            "/usr/local/lib/python3.10/dist-packages/keras/src/layers/convolutional/base_conv.py:107: UserWarning: Do not pass an `input_shape`/`input_dim` argument to a layer. When using Sequential models, prefer using an `Input(shape)` object as the first layer in the model instead.\n",
            "  super().__init__(activity_regularizer=activity_regularizer, **kwargs)\n"
          ]
        },
        {
          "output_type": "stream",
          "name": "stdout",
          "text": [
            "Epoch 1/10\n",
            "\u001b[1m125/125\u001b[0m \u001b[32m━━━━━━━━━━━━━━━━━━━━\u001b[0m\u001b[37m\u001b[0m \u001b[1m14s\u001b[0m 98ms/step - accuracy: 0.5474 - loss: 0.6821 - val_accuracy: 0.7050 - val_loss: 0.5781\n",
            "Epoch 2/10\n",
            "\u001b[1m125/125\u001b[0m \u001b[32m━━━━━━━━━━━━━━━━━━━━\u001b[0m\u001b[37m\u001b[0m \u001b[1m19s\u001b[0m 89ms/step - accuracy: 0.6979 - loss: 0.5762 - val_accuracy: 0.7305 - val_loss: 0.5329\n",
            "Epoch 3/10\n",
            "\u001b[1m125/125\u001b[0m \u001b[32m━━━━━━━━━━━━━━━━━━━━\u001b[0m\u001b[37m\u001b[0m \u001b[1m12s\u001b[0m 96ms/step - accuracy: 0.7238 - loss: 0.5361 - val_accuracy: 0.7315 - val_loss: 0.5122\n",
            "Epoch 4/10\n",
            "\u001b[1m125/125\u001b[0m \u001b[32m━━━━━━━━━━━━━━━━━━━━\u001b[0m\u001b[37m\u001b[0m \u001b[1m20s\u001b[0m 94ms/step - accuracy: 0.7544 - loss: 0.4934 - val_accuracy: 0.7760 - val_loss: 0.4801\n",
            "Epoch 5/10\n",
            "\u001b[1m125/125\u001b[0m \u001b[32m━━━━━━━━━━━━━━━━━━━━\u001b[0m\u001b[37m\u001b[0m \u001b[1m20s\u001b[0m 87ms/step - accuracy: 0.7873 - loss: 0.4517 - val_accuracy: 0.7800 - val_loss: 0.4676\n",
            "Epoch 6/10\n",
            "\u001b[1m125/125\u001b[0m \u001b[32m━━━━━━━━━━━━━━━━━━━━\u001b[0m\u001b[37m\u001b[0m \u001b[1m12s\u001b[0m 94ms/step - accuracy: 0.7999 - loss: 0.4221 - val_accuracy: 0.7870 - val_loss: 0.4592\n",
            "Epoch 7/10\n",
            "\u001b[1m125/125\u001b[0m \u001b[32m━━━━━━━━━━━━━━━━━━━━\u001b[0m\u001b[37m\u001b[0m \u001b[1m12s\u001b[0m 95ms/step - accuracy: 0.8053 - loss: 0.4199 - val_accuracy: 0.7635 - val_loss: 0.5083\n",
            "Epoch 8/10\n",
            "\u001b[1m125/125\u001b[0m \u001b[32m━━━━━━━━━━━━━━━━━━━━\u001b[0m\u001b[37m\u001b[0m \u001b[1m12s\u001b[0m 94ms/step - accuracy: 0.8323 - loss: 0.3731 - val_accuracy: 0.7905 - val_loss: 0.4413\n",
            "Epoch 9/10\n",
            "\u001b[1m125/125\u001b[0m \u001b[32m━━━━━━━━━━━━━━━━━━━━\u001b[0m\u001b[37m\u001b[0m \u001b[1m12s\u001b[0m 94ms/step - accuracy: 0.8652 - loss: 0.3134 - val_accuracy: 0.7885 - val_loss: 0.4564\n",
            "Epoch 10/10\n",
            "\u001b[1m125/125\u001b[0m \u001b[32m━━━━━━━━━━━━━━━━━━━━\u001b[0m\u001b[37m\u001b[0m \u001b[1m20s\u001b[0m 93ms/step - accuracy: 0.8791 - loss: 0.2949 - val_accuracy: 0.7900 - val_loss: 0.4730\n"
          ]
        },
        {
          "output_type": "stream",
          "name": "stderr",
          "text": [
            "WARNING:absl:You are saving your model as an HDF5 file via `model.save()` or `keras.saving.save_model(model)`. This file format is considered legacy. We recommend using instead the native Keras format, e.g. `model.save('my_model.keras')` or `keras.saving.save_model(model, 'my_model.keras')`. \n"
          ]
        }
      ],
      "source": [
        "import tensorflow as tf\n",
        "from tensorflow.keras.models import Sequential\n",
        "from tensorflow.keras.layers import Conv2D, MaxPooling2D, Flatten, Dense, Dropout\n",
        "from tensorflow.keras.datasets import cifar10\n",
        "from tensorflow.keras.utils import to_categorical\n",
        "import numpy as np\n",
        "\n",
        "# Load the CIFAR-10 dataset\n",
        "(x_train, y_train), (x_test, y_test) = cifar10.load_data()\n",
        "\n",
        "# Filter the dataset for birds (label 2) and non-birds (labels 0-1, 3-9)\n",
        "bird_indices = (y_train == 2).flatten()  # Label 2 corresponds to birds\n",
        "non_bird_indices = (y_train != 2).flatten()\n",
        "\n",
        "x_train_birds = x_train[bird_indices]\n",
        "y_train_birds = y_train[bird_indices]\n",
        "\n",
        "x_train_non_birds = x_train[non_bird_indices][:5000]  # Taking a subset for balance\n",
        "y_train_non_birds = y_train[non_bird_indices][:5000]\n",
        "\n",
        "# Combine bird and non-bird data\n",
        "x_train_combined = np.concatenate((x_train_birds, x_train_non_birds), axis=0)\n",
        "y_train_combined = np.concatenate((np.ones(y_train_birds.shape), np.zeros(y_train_non_birds.shape)), axis=0)\n",
        "\n",
        "# Shuffle the combined dataset\n",
        "shuffled_indices = np.random.permutation(len(x_train_combined))\n",
        "x_train_combined = x_train_combined[shuffled_indices]\n",
        "y_train_combined = y_train_combined[shuffled_indices]\n",
        "\n",
        "# Normalize the images\n",
        "x_train_combined = x_train_combined.astype('float32') / 255.0\n",
        "\n",
        "# Build a simple CNN model\n",
        "model = Sequential([\n",
        "    Conv2D(32, (3, 3), activation='relu', input_shape=(32, 32, 3)),\n",
        "    MaxPooling2D((2, 2)),\n",
        "    Conv2D(64, (3, 3), activation='relu'),\n",
        "    MaxPooling2D((2, 2)),\n",
        "    Conv2D(128, (3, 3), activation='relu'),\n",
        "    MaxPooling2D((2, 2)),\n",
        "    Flatten(),\n",
        "    Dense(128, activation='relu'),\n",
        "    Dropout(0.5),\n",
        "    Dense(1, activation='sigmoid')\n",
        "])\n",
        "\n",
        "# Compile the model\n",
        "model.compile(optimizer='adam', loss='binary_crossentropy', metrics=['accuracy'])\n",
        "\n",
        "# Train the model\n",
        "model.fit(x_train_combined, y_train_combined, epochs=10, batch_size=64, validation_split=0.2)\n",
        "\n",
        "# Save the model\n",
        "model.save('bird_detection_model.h5')\n"
      ]
    },
    {
      "cell_type": "code",
      "source": [
        "import tensorflow as tf\n",
        "from tensorflow.keras.models import load_model\n",
        "from tensorflow.keras.preprocessing import image\n",
        "import numpy as np\n",
        "\n",
        "# Load the trained model\n",
        "model = load_model('bird_detection_model.h5')\n",
        "\n",
        "def prepare_image(img_path):\n",
        "    # Load the image from the path\n",
        "    img = image.load_img(img_path, target_size=(32, 32))  # Resize the image to 32x32 pixels\n",
        "\n",
        "    # Convert the image to a numpy array\n",
        "    img_array = image.img_to_array(img)\n",
        "\n",
        "    # Normalize the image array\n",
        "    img_array = img_array.astype('float32') / 255.0\n",
        "\n",
        "    # Add an extra dimension to match the input shape of the model (batch size, height, width, channels)\n",
        "    img_array = np.expand_dims(img_array, axis=0)\n",
        "\n",
        "    return img_array\n",
        "\n",
        "def predict_bird(img_path):\n",
        "    # Prepare the image\n",
        "    img_array = prepare_image(img_path)\n",
        "\n",
        "    # Make the prediction\n",
        "    prediction = model.predict(img_array)\n",
        "\n",
        "    # Interpret the prediction result\n",
        "    if prediction[0] > 0.5:\n",
        "        print(\"Bird detected in the image.\")\n",
        "    else:\n",
        "        print(\"No bird detected in the image.\")\n",
        "\n",
        "# Example usage\n",
        "img_path = 'car.jpg'  # Replace with the path to your image\n",
        "predict_bird(img_path)\n",
        "img_path = 'bird.jpg'\n",
        "predict_bird(img_path)\n",
        "img_path = 'bird3.jpg'\n",
        "predict_bird(img_path)\n",
        "img_path = 'bird2.jpg'\n",
        "predict_bird(img_path)\n",
        "img_path = 'bird1.jpg'\n",
        "predict_bird(img_path)"
      ],
      "metadata": {
        "colab": {
          "base_uri": "https://localhost:8080/"
        },
        "id": "0nsKYfGB1PZ2",
        "outputId": "d050b7ab-a715-4009-b33e-7ad2c0734474"
      },
      "execution_count": null,
      "outputs": [
        {
          "output_type": "stream",
          "name": "stderr",
          "text": [
            "WARNING:absl:Compiled the loaded model, but the compiled metrics have yet to be built. `model.compile_metrics` will be empty until you train or evaluate the model.\n"
          ]
        },
        {
          "output_type": "stream",
          "name": "stdout",
          "text": [
            "\u001b[1m1/1\u001b[0m \u001b[32m━━━━━━━━━━━━━━━━━━━━\u001b[0m\u001b[37m\u001b[0m \u001b[1m0s\u001b[0m 90ms/step\n",
            "No bird detected in the image.\n",
            "\u001b[1m1/1\u001b[0m \u001b[32m━━━━━━━━━━━━━━━━━━━━\u001b[0m\u001b[37m\u001b[0m \u001b[1m0s\u001b[0m 20ms/step\n",
            "Bird detected in the image.\n",
            "\u001b[1m1/1\u001b[0m \u001b[32m━━━━━━━━━━━━━━━━━━━━\u001b[0m\u001b[37m\u001b[0m \u001b[1m0s\u001b[0m 19ms/step\n",
            "No bird detected in the image.\n",
            "\u001b[1m1/1\u001b[0m \u001b[32m━━━━━━━━━━━━━━━━━━━━\u001b[0m\u001b[37m\u001b[0m \u001b[1m0s\u001b[0m 23ms/step\n",
            "No bird detected in the image.\n",
            "\u001b[1m1/1\u001b[0m \u001b[32m━━━━━━━━━━━━━━━━━━━━\u001b[0m\u001b[37m\u001b[0m \u001b[1m0s\u001b[0m 19ms/step\n",
            "Bird detected in the image.\n"
          ]
        }
      ]
    }
  ]
}